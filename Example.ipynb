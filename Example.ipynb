{
 "cells": [
  {
   "cell_type": "code",
   "execution_count": 1,
   "metadata": {},
   "outputs": [],
   "source": [
    "\"\"\"\n",
    "This is a demo (not production code!) of black-box stochastic variational\n",
    "inference applied to logistic regression.\n",
    "\n",
    "The main black-box stochastic variational \"engine\" is svi_grad.\n",
    "\n",
    "In principle it could be applied to any model with a differentiable negative\n",
    "log-likelihood function. Although for large models you may want to make the\n",
    "posterior approximation diagonal, and you may want to build a more structured\n",
    "prior than one shared variance for all weights.\n",
    "\n",
    "This demonstration is a quick line-by-line port of the Matlab/Octave code in\n",
    "svi_minimal.m. The Matlab/Octave tar-ball has some more code with some checks,\n",
    "which I haven't ported.\n",
    "\n",
    "Iain Murray, November 2016, November 2017\n",
    "\"\"\"\n",
    "\n",
    "\n",
    "import numpy as np\n",
    "import matplotlib.pyplot as plt"
   ]
  },
  {
   "cell_type": "markdown",
   "metadata": {},
   "source": [
    "Remember that $J$ is\n",
    "$$\n",
    " J(\\mathbf m, V) = \\mathbb E_q[\\text{log }q(\\mathbf w)] - \\mathbb E_q[\\text{log }p(D|\\mathbf w)] - \\mathbb E_q[\\text{log } p(\\mathbf w)]\n",
    "$$\n",
    "Also remember that $K$\n",
    "$$\n",
    "  V = LL^T\n",
    "$$\n",
    "\n",
    "supposing the prior is gaussian then we know that $q(\\mathbf w) \\sim \\mathcal N(\\mathbf m,V)$ and $p(\\mathbf w) \\sim \\mathcal N (\\mu, \\Sigma)$ and replacing in $ \\mathbb E_q[\\text{log }q(\\mathbf w)]$\n",
    "\n",
    "$$\n",
    " \\mathbb E_q[\\text{log }q(\\mathbf w)] =  \\mathbb E_{\\mathcal N(\\mathbf w;\\mathbf m, V)}[\\text{log }\\mathcal N (\\mathbf{w;m},V)]\n",
    "$$\n",
    "\n",
    "we also know that\n",
    "$$\n",
    "\\mathcal N(x;μ, \\sigma) = \\frac{ 1}{σ \\sqrt{2π} } e^{-\\frac 1 2(x - μ)^T\\Sigma^{-1}(x- μ)}\n",
    "$$\n",
    "\n",
    "therefore \n",
    "\n",
    "$$\n",
    "\\mathbb E_{\\mathcal N(\\mathbf w;\\mathbf m, V)}[\\text{log }\\mathcal N (\\mathbf{w;\\mu},\\Sigma)]\n",
    "=\n",
    "\\mathbb E_{\\mathcal N(\\mathbf w;\\mathbf m, V)}\\left[-\\frac 1 2(\\mathbf w - μ)^T\\Sigma^{-1}(\\mathbf w- μ)\\right]-\\frac 1 2 log |2\\pi \\Sigma|\n",
    "$$\n",
    "\n",
    "Given that the resulting expresion is an expectation of a quadratic form we can express it in terms of $\\mathbf m, V$, then things simplify significantely\n",
    "\n",
    "$$\n",
    "\\mathbb E_{\\mathcal N(\\mathbf w;\\mathbf m,V)}[\\text{log }\\mathcal N(\\mathbf w; \\mathbf m, V)] = - \\frac D 2 - \\frac 1 2 \\text{log } |2\\pi V|\n",
    "$$\n",
    "\n",
    "To see an explanation of this result see w9b footnote 4"
   ]
  },
  {
   "cell_type": "code",
   "execution_count": 2,
   "metadata": {},
   "outputs": [],
   "source": [
    "def svi_grad(mm, LL, Lsigma_w, neg_log_like_grad):\n",
    "    \"\"\"\n",
    "    cost function and gradients for black-box stochastic variational inference\n",
    "\n",
    "    Inputs:\n",
    "                   mm D,  mean of variational posterior\n",
    "                   LL D,D lower-triangular Cholesky decomposition of\n",
    "                          variational posterior, with diagonal log-transformed\n",
    "             Lsigma_w     scalar: log of prior standard deviation over weights\n",
    "    neg_log_like_grad fn  -ve log-likelihood of model and gradients wrt weights\n",
    "                          Could be an unbiased estimate based on a mini-batch,\n",
    "                          we only get unbiased estimates of cost and gradients\n",
    "                          anyway.\n",
    "\n",
    "    Outputs:\n",
    "                    J     scalar: estimate of variational cost function = -ELBO\n",
    "               mm_bar D,  with derivatives wrt mm, ...\n",
    "               LL_bar D,D ...LL, ...\n",
    "         Lsigma_w_bar     ...and Lsigma_w\n",
    "    \"\"\"\n",
    "\n",
    "    # Unpack Cholesky factor of posterior covariance and prior variance\n",
    "    # from their unconstrained forms.\n",
    "    D = mm.size\n",
    "    L = np.tril(LL)\n",
    "    diag = np.diag_indices_from(L)\n",
    "    L[diag] = np.exp(LL[diag])\n",
    "    sigma2_w = np.exp(2*Lsigma_w)\n",
    "\n",
    "    # The estimate of the variational cost function\n",
    "    J1 = -0.5*D - np.sum(np.diag(LL)) # - D/2*log(2*pi) # Shouldn't it be log(|2*pi*V|)?\n",
    "    tmp = (np.sum(L*L) + np.dot(mm, mm)) / sigma2_w\n",
    "    J2 = tmp/2.0 + D*Lsigma_w         # + D/2*log(2*pi)\n",
    "    nu = np.random.randn(D)\n",
    "    ww = mm + np.dot(L, nu) # Using random weight\n",
    "    J3, ww_bar = neg_log_like_grad(ww)\n",
    "    J = J1 + J2 + J3\n",
    "\n",
    "    # The derivatives\n",
    "    mm_bar = mm/sigma2_w + ww_bar\n",
    "    L_bar = L/sigma2_w + np.tril(np.dot(ww_bar[:,None], nu[None,:]))\n",
    "    LL_bar = L_bar\n",
    "    LL_bar[diag] = (L_bar[diag] * L[diag]) - 1\n",
    "    Lsigma_w_bar = D - tmp\n",
    "\n",
    "    return J, mm_bar, LL_bar, Lsigma_w_bar"
   ]
  },
  {
   "cell_type": "code",
   "execution_count": 3,
   "metadata": {},
   "outputs": [],
   "source": [
    "def logreg_negLlike(ww, X, yy):\n",
    "    \"\"\"\n",
    "    Negative log-likelihood and gradients of logistic regression\n",
    "\n",
    "        negLlike, ww_bar = logreg_negLlike(ww, X, yy)\n",
    "\n",
    "    There's no separate bias term. So X needs augmenting with a\n",
    "    constant column to include a bias.\n",
    "\n",
    "    Inputs:\n",
    "             ww D,\n",
    "              X N,D\n",
    "             yy N,\n",
    "\n",
    "    Outputs:\n",
    "       negLlike scalar\n",
    "         ww_bar D,\n",
    "    \"\"\"\n",
    "\n",
    "    # Force targets to be +/- 1\n",
    "    yy = 2*(yy==1) - 1\n",
    "\n",
    "    # forward computation of error\n",
    "    sigma = 1.0/(1.0 + np.exp(-yy*np.dot(X, ww)))\n",
    "    negLlike = -np.sum(np.log(sigma))\n",
    "\n",
    "    # reverse computation of gradients\n",
    "    ww_bar = np.dot(X.T, yy*(sigma - 1))\n",
    "\n",
    "    return negLlike, ww_bar"
   ]
  },
  {
   "cell_type": "code",
   "execution_count": 4,
   "metadata": {},
   "outputs": [],
   "source": [
    "# Generate synthetic dataset and note corresponding likelihood\n",
    "np.random.seed(0)\n",
    "D = 3\n",
    "ww = 5*np.random.randn(D)\n",
    "N = 20\n",
    "X = np.hstack((np.random.randn(N, D-1), np.ones((N,1))))\n",
    "yy = np.random.rand(N) < (1.0/(1.0 + np.exp(-np.dot(X,ww))))\n",
    "neg_log_like_grad = lambda w: logreg_negLlike(w, X, yy)"
   ]
  },
  {
   "cell_type": "code",
   "execution_count": 5,
   "metadata": {},
   "outputs": [
    {
     "data": {
      "image/png": "[encoded data removed]",
      "text/plain": [
       "<Figure size 432x288 with 1 Axes>"
      ]
     },
     "metadata": {
      "needs_background": "light"
     },
     "output_type": "display_data"
    }
   ],
   "source": [
    "x1, x2 = list(zip(*X[:,:2]))\n",
    "plt.plot(np.array(x1)[yy == True ],np.array(x2)[yy == True ],'bx')\n",
    "plt.plot(np.array(x1)[yy == False],np.array(x2)[yy == False],'ro');"
   ]
  },
  {
   "cell_type": "code",
   "execution_count": 6,
   "metadata": {},
   "outputs": [],
   "source": [
    "# Hyper parameters\n",
    "# If you rerun the fitting with different seeds you'll see we don't\n",
    "# get quite the same answer each time. I'd need to set the learning rate\n",
    "# schedule better, and/or run for longer, to get better convergence.\n",
    "np.random.seed(2)\n",
    "\n",
    "# Simple stochastic steepest descent with decreasing learning rate.\n",
    "# Here each update includes the whole dataset because the dataset is\n",
    "# tiny. However, we still have stochastic updates, as each update\n",
    "# uses a different random weight drawn from the current variational\n",
    "# approximation to the posterior.\n",
    "Lsigma_w = np.log(10) # Initialize prior width broader than it actually was. (We'll learn to fix that.)\n",
    "mm = np.zeros(D)\n",
    "LL = np.zeros((D, D))\n",
    "diag = np.diag_indices_from(LL)\n",
    "LL[diag] = Lsigma_w\n",
    "eta0 = 0.1 # Initial Learning Rate\n",
    "tau = 0.1  # Weight decay"
   ]
  },
  {
   "cell_type": "code",
   "execution_count": 7,
   "metadata": {},
   "outputs": [],
   "source": [
    "# Stochastic Gradient Descent\n",
    "for ii in range(10000):\n",
    "    eta = eta0 / (1 + tau*eta0*ii)\n",
    "    J, mm_bar, LL_bar, Lsigma_w_bar = svi_grad(mm, LL, Lsigma_w, neg_log_like_grad)\n",
    "    mm = mm - eta*mm_bar\n",
    "    LL = LL - eta*LL_bar\n",
    "    Lsigma_w = Lsigma_w - eta*Lsigma_w_bar\n",
    "    # hack to stop extreme settings of hyperparameters early in training:\n",
    "    Lsigma_w = np.min([100.0, Lsigma_w])"
   ]
  },
  {
   "cell_type": "code",
   "execution_count": 8,
   "metadata": {},
   "outputs": [
    {
     "data": {
      "image/png": "[encoded data removed]",
      "text/plain": [
       "<Figure size 432x288 with 1 Axes>"
      ]
     },
     "metadata": {
      "needs_background": "light"
     },
     "output_type": "display_data"
    }
   ],
   "source": [
    "# Extract covariance of the variational posterior from its\n",
    "# unconstrained parameterization.\n",
    "L = LL\n",
    "L[diag] = np.exp(LL[diag])\n",
    "V = np.dot(L, L.T)\n",
    "\n",
    "# Plot data:\n",
    "plt.clf()\n",
    "plt.plot(X[yy==1, 0], X[yy==1, 1], 'bx')\n",
    "plt.plot(X[yy==0, 0], X[yy==0, 1], 'ro')\n",
    "plt.legend(('y=1', 'y=0'))\n",
    "\n",
    "# Overlay contour plot of approximate predictive distribution:\n",
    "x_grid = np.arange(-3, 3, 0.05)\n",
    "X1, X2 = np.meshgrid(x_grid, x_grid)\n",
    "NG = X1.size\n",
    "X_test = np.hstack((X1.reshape(NG,1), X2.reshape(NG,1), np.ones((NG,1))))\n",
    "kappa = 1.0 / np.sqrt(1 + (np.pi/8)*np.sum(np.dot(X_test,V)*X_test, 1))\n",
    "p_test = 1.0 / (1+np.exp(-np.dot(X_test,mm)*kappa))\n",
    "P = np.reshape(p_test, X1.shape)\n",
    "CS = plt.contour(X1, X2, P, [0.1,0.25,0.5,0.75,0.9])\n",
    "plt.clabel(CS)\n",
    "plt.xlabel('x_1')\n",
    "plt.ylabel('x_2')\n",
    "plt.title('Contours of p(y=1|x,D)')\n",
    "plt.show()"
   ]
  }
 ],
 "metadata": {
  "kernelspec": {
   "display_name": "Python 3",
   "language": "python",
   "name": "python3"
  },
  "language_info": {
   "codemirror_mode": {
    "name": "ipython",
    "version": 3
   },
   "file_extension": ".py",
   "mimetype": "text/x-python",
   "name": "python",
   "nbconvert_exporter": "python",
   "pygments_lexer": "ipython3",
   "version": "3.7.0"
  }
 },
 "nbformat": 4,
 "nbformat_minor": 2
}
